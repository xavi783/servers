{
 "metadata": {
  "name": "",
  "signature": "sha256:a9c3e5d50b426a4b3d26a8d54799f160e36c1ef64bc22a3864cac84f8ae39ed8"
 },
 "nbformat": 3,
 "nbformat_minor": 0,
 "worksheets": [
  {
   "cells": [
    {
     "cell_type": "markdown",
     "metadata": {},
     "source": [
      "####[HOME](http://xavi783.github.io/ipython-notebook/index.html)"
     ]
    },
    {
     "cell_type": "markdown",
     "metadata": {},
     "source": [
      "#Displaying Yahoo Historical prices for SP500\n",
      "<br>\n",
      "import required packages and get the data"
     ]
    },
    {
     "cell_type": "code",
     "collapsed": false,
     "input": [
      "import os\n",
      "import datetime as dt\n",
      "import pandas.io.data as web\n",
      "import matplotlib.pyplot as plt\n",
      "import matplotlib.finance as fpl\n",
      "\n",
      "matplotlib.rcParams['savefig.dpi'] = 144 # figures scaling to 144 dpi\n",
      "\n",
      "data = web.get_data_yahoo(\"^GSPC\", dt.datetime(2014,9,1))"
     ],
     "language": "python",
     "metadata": {},
     "outputs": [],
     "prompt_number": 1
    },
    {
     "cell_type": "markdown",
     "metadata": {},
     "source": [
      "###Displaying SP-500 data\n",
      "<br>\n",
      "Data head (the first 5 rows) and tail (the last 5 rows) are shown:"
     ]
    },
    {
     "cell_type": "code",
     "collapsed": false,
     "input": [
      "data.head().append(data.tail())"
     ],
     "language": "python",
     "metadata": {},
     "outputs": [
      {
       "html": [
        "<div style=\"max-height:1000px;max-width:1500px;overflow:auto;\">\n",
        "<table border=\"1\" class=\"dataframe\">\n",
        "  <thead>\n",
        "    <tr style=\"text-align: right;\">\n",
        "      <th></th>\n",
        "      <th>Open</th>\n",
        "      <th>High</th>\n",
        "      <th>Low</th>\n",
        "      <th>Close</th>\n",
        "      <th>Volume</th>\n",
        "      <th>Adj Close</th>\n",
        "    </tr>\n",
        "    <tr>\n",
        "      <th>Date</th>\n",
        "      <th></th>\n",
        "      <th></th>\n",
        "      <th></th>\n",
        "      <th></th>\n",
        "      <th></th>\n",
        "      <th></th>\n",
        "    </tr>\n",
        "  </thead>\n",
        "  <tbody>\n",
        "    <tr>\n",
        "      <th>2014-09-02</th>\n",
        "      <td> 2002.28</td>\n",
        "      <td> 2002.28</td>\n",
        "      <td> 2002.28</td>\n",
        "      <td> 2002.28</td>\n",
        "      <td>          0</td>\n",
        "      <td> 2002.28</td>\n",
        "    </tr>\n",
        "    <tr>\n",
        "      <th>2014-09-03</th>\n",
        "      <td> 2000.72</td>\n",
        "      <td> 2000.72</td>\n",
        "      <td> 2000.72</td>\n",
        "      <td> 2000.72</td>\n",
        "      <td>          0</td>\n",
        "      <td> 2000.72</td>\n",
        "    </tr>\n",
        "    <tr>\n",
        "      <th>2014-09-04</th>\n",
        "      <td> 1997.65</td>\n",
        "      <td> 1997.65</td>\n",
        "      <td> 1997.65</td>\n",
        "      <td> 1997.65</td>\n",
        "      <td>          0</td>\n",
        "      <td> 1997.65</td>\n",
        "    </tr>\n",
        "    <tr>\n",
        "      <th>2014-09-05</th>\n",
        "      <td> 2007.71</td>\n",
        "      <td> 2007.71</td>\n",
        "      <td> 2007.71</td>\n",
        "      <td> 2007.71</td>\n",
        "      <td>          0</td>\n",
        "      <td> 2007.71</td>\n",
        "    </tr>\n",
        "    <tr>\n",
        "      <th>2014-09-08</th>\n",
        "      <td> 2001.54</td>\n",
        "      <td> 2001.54</td>\n",
        "      <td> 2001.54</td>\n",
        "      <td> 2001.54</td>\n",
        "      <td>          0</td>\n",
        "      <td> 2001.54</td>\n",
        "    </tr>\n",
        "    <tr>\n",
        "      <th>2014-10-30</th>\n",
        "      <td> 1979.49</td>\n",
        "      <td> 1999.40</td>\n",
        "      <td> 1974.75</td>\n",
        "      <td> 1994.65</td>\n",
        "      <td> 3586150000</td>\n",
        "      <td> 1994.65</td>\n",
        "    </tr>\n",
        "    <tr>\n",
        "      <th>2014-10-31</th>\n",
        "      <td> 2001.20</td>\n",
        "      <td> 2018.19</td>\n",
        "      <td> 2001.20</td>\n",
        "      <td> 2018.05</td>\n",
        "      <td> 4292290000</td>\n",
        "      <td> 2018.05</td>\n",
        "    </tr>\n",
        "    <tr>\n",
        "      <th>2014-11-03</th>\n",
        "      <td> 2018.21</td>\n",
        "      <td> 2024.46</td>\n",
        "      <td> 2013.68</td>\n",
        "      <td> 2017.81</td>\n",
        "      <td> 3555440000</td>\n",
        "      <td> 2017.81</td>\n",
        "    </tr>\n",
        "    <tr>\n",
        "      <th>2014-11-04</th>\n",
        "      <td> 2015.81</td>\n",
        "      <td> 2015.98</td>\n",
        "      <td> 2001.01</td>\n",
        "      <td> 2012.10</td>\n",
        "      <td> 3956260000</td>\n",
        "      <td> 2012.10</td>\n",
        "    </tr>\n",
        "    <tr>\n",
        "      <th>2014-11-05</th>\n",
        "      <td> 2015.29</td>\n",
        "      <td> 2023.77</td>\n",
        "      <td> 2014.42</td>\n",
        "      <td> 2023.57</td>\n",
        "      <td> 3766590000</td>\n",
        "      <td> 2023.57</td>\n",
        "    </tr>\n",
        "  </tbody>\n",
        "</table>\n",
        "<p>10 rows \u00d7 6 columns</p>\n",
        "</div>"
       ],
       "metadata": {},
       "output_type": "pyout",
       "prompt_number": 2,
       "text": [
        "               Open     High      Low    Close      Volume  Adj Close\n",
        "Date                                                                 \n",
        "2014-09-02  2002.28  2002.28  2002.28  2002.28           0    2002.28\n",
        "2014-09-03  2000.72  2000.72  2000.72  2000.72           0    2000.72\n",
        "2014-09-04  1997.65  1997.65  1997.65  1997.65           0    1997.65\n",
        "2014-09-05  2007.71  2007.71  2007.71  2007.71           0    2007.71\n",
        "2014-09-08  2001.54  2001.54  2001.54  2001.54           0    2001.54\n",
        "2014-10-30  1979.49  1999.40  1974.75  1994.65  3586150000    1994.65\n",
        "2014-10-31  2001.20  2018.19  2001.20  2018.05  4292290000    2018.05\n",
        "2014-11-03  2018.21  2024.46  2013.68  2017.81  3555440000    2017.81\n",
        "2014-11-04  2015.81  2015.98  2001.01  2012.10  3956260000    2012.10\n",
        "2014-11-05  2015.29  2023.77  2014.42  2023.57  3766590000    2023.57\n",
        "\n",
        "[10 rows x 6 columns]"
       ]
      }
     ],
     "prompt_number": 2
    },
    {
     "cell_type": "code",
     "collapsed": false,
     "input": [
      "data.reset_index(inplace = True)\n",
      "\n",
      "# convert the datetime64 column in the dataframe to 'float days'\n",
      "data.Date = [d.toordinal() for d in data.Date]\n",
      "dataArray =  data[['Date', 'Open', 'Close', 'High', 'Low']].to_records(index=False).tolist()\n",
      "\n",
      "# construct and show the plot\n",
      "ax1 = plt.subplot(1,1,1)\n",
      "fpl.candlestick(ax1, dataArray)\n",
      "plt.show()"
     ],
     "language": "python",
     "metadata": {},
     "outputs": [
      {
       "metadata": {},
       "output_type": "display_data",
       "png": "[encoded data removed]",
       "text": [
        "<matplotlib.figure.Figure at 0xa478db0>"
       ]
      }
     ],
     "prompt_number": 3
    },
    {
     "cell_type": "markdown",
     "metadata": {},
     "source": [
      "and if we retrieve last price for the same symbol, we have:"
     ]
    },
    {
     "cell_type": "code",
     "collapsed": false,
     "input": [
      "web.get_quote_yahoo('^GSPC').reindex_axis(['SP-500'],method='bfill')"
     ],
     "language": "python",
     "metadata": {},
     "outputs": [
      {
       "html": [
        "<div style=\"max-height:1000px;max-width:1500px;overflow:auto;\">\n",
        "<table border=\"1\" class=\"dataframe\">\n",
        "  <thead>\n",
        "    <tr style=\"text-align: right;\">\n",
        "      <th></th>\n",
        "      <th>PE</th>\n",
        "      <th>change_pct</th>\n",
        "      <th>last</th>\n",
        "      <th>short_ratio</th>\n",
        "      <th>time</th>\n",
        "    </tr>\n",
        "  </thead>\n",
        "  <tbody>\n",
        "    <tr>\n",
        "      <th>SP-500</th>\n",
        "      <td>NaN</td>\n",
        "      <td> 0.57</td>\n",
        "      <td> 2023.57</td>\n",
        "      <td>NaN</td>\n",
        "      <td> 4:31pm</td>\n",
        "    </tr>\n",
        "  </tbody>\n",
        "</table>\n",
        "<p>1 rows \u00d7 5 columns</p>\n",
        "</div>"
       ],
       "metadata": {},
       "output_type": "pyout",
       "prompt_number": 4,
       "text": [
        "        PE  change_pct     last  short_ratio    time\n",
        "SP-500 NaN        0.57  2023.57          NaN  4:31pm\n",
        "\n",
        "[1 rows x 5 columns]"
       ]
      }
     ],
     "prompt_number": 4
    },
    {
     "cell_type": "markdown",
     "metadata": {},
     "source": [
      "we must be careful with `method` in `reindex_axis` because if we use `method='bfill'` it fills new data frame with last observation of the old one, in this case is useful because we are only getting a single-row dataframe"
     ]
    },
    {
     "cell_type": "markdown",
     "metadata": {},
     "source": [
      "### Persisting data\n",
      "<br>\n",
      "Data is saved to disk:"
     ]
    },
    {
     "cell_type": "code",
     "collapsed": false,
     "input": [
      "path = './'\n",
      "if not os.path.exists(path):\n",
      "    os.makedirs(path)\n",
      "data.to_csv(path+'data.csv')"
     ],
     "language": "python",
     "metadata": {},
     "outputs": [],
     "prompt_number": 5
    },
    {
     "cell_type": "markdown",
     "metadata": {},
     "source": [
      "### Getting fundamental via API\n",
      "<br>"
     ]
    },
    {
     "cell_type": "code",
     "collapsed": false,
     "input": [
      "import requests\n",
      "from StringIO import StringIO as reader\n",
      "\n",
      "Fdata = pd.read_csv(reader(requests.get('http://finance.yahoo.com/d/quotes.csv?s=GE+PTR+MSFT&f=snd1l1yr').text),header=None)\n",
      "Fdata"
     ],
     "language": "python",
     "metadata": {},
     "outputs": [
      {
       "html": [
        "<div style=\"max-height:1000px;max-width:1500px;overflow:auto;\">\n",
        "<table border=\"1\" class=\"dataframe\">\n",
        "  <thead>\n",
        "    <tr style=\"text-align: right;\">\n",
        "      <th></th>\n",
        "      <th>0</th>\n",
        "      <th>1</th>\n",
        "      <th>2</th>\n",
        "      <th>3</th>\n",
        "      <th>4</th>\n",
        "      <th>5</th>\n",
        "    </tr>\n",
        "  </thead>\n",
        "  <tbody>\n",
        "    <tr>\n",
        "      <th>0</th>\n",
        "      <td>   GE</td>\n",
        "      <td> General Electric </td>\n",
        "      <td> 11/5/2014</td>\n",
        "      <td>  25.82</td>\n",
        "      <td> 3.41</td>\n",
        "      <td> 19.72</td>\n",
        "    </tr>\n",
        "    <tr>\n",
        "      <th>1</th>\n",
        "      <td>  PTR</td>\n",
        "      <td> PetroChina Compan</td>\n",
        "      <td> 11/5/2014</td>\n",
        "      <td> 121.66</td>\n",
        "      <td> 4.31</td>\n",
        "      <td> 10.49</td>\n",
        "    </tr>\n",
        "    <tr>\n",
        "      <th>2</th>\n",
        "      <td> MSFT</td>\n",
        "      <td> Microsoft Corpora</td>\n",
        "      <td> 11/5/2014</td>\n",
        "      <td>  47.86</td>\n",
        "      <td> 2.34</td>\n",
        "      <td> 18.76</td>\n",
        "    </tr>\n",
        "  </tbody>\n",
        "</table>\n",
        "<p>3 rows \u00d7 6 columns</p>\n",
        "</div>"
       ],
       "metadata": {},
       "output_type": "pyout",
       "prompt_number": 6,
       "text": [
        "      0                  1          2       3     4      5\n",
        "0    GE  General Electric   11/5/2014   25.82  3.41  19.72\n",
        "1   PTR  PetroChina Compan  11/5/2014  121.66  4.31  10.49\n",
        "2  MSFT  Microsoft Corpora  11/5/2014   47.86  2.34  18.76\n",
        "\n",
        "[3 rows x 6 columns]"
       ]
      }
     ],
     "prompt_number": 6
    },
    {
     "cell_type": "markdown",
     "metadata": {},
     "source": [
      "You can see Yahoo API [here](http://greenido.wordpress.com/2009/12/22/yahoo-finance-hidden-api/) or [here](https://code.google.com/p/yahoo-finance-managed/wiki/enumQuoteProperty)\n",
      "\n",
      "###Example of Whole Yahoo API usage\n",
      "<br>"
     ]
    },
    {
     "cell_type": "code",
     "collapsed": false,
     "input": [
      "from financialapi import yahooapi as ypi\n",
      "\n",
      "fields = ['Symbol','Name','EBITDA','PER','Beta','Open','High','Low','Close','LastTrade_PriceOnly','Volume','My_OwN-FiElD']\n",
      "o = ypi.YahooAPI()\n",
      "o.get_fields(fields)"
     ],
     "language": "python",
     "metadata": {},
     "outputs": [
      {
       "metadata": {},
       "output_type": "pyout",
       "prompt_number": 7,
       "text": [
        "['Symbol', 'Name', 'EBITDA', 'PER', 'Open', 'LastTrade_PriceOnly', 'Volume']"
       ]
      }
     ],
     "prompt_number": 7
    },
    {
     "cell_type": "code",
     "collapsed": false,
     "input": [
      "data = o.get_data(['^GSPC','AAPL','GOOG'],['Symbol','Name','EBITDA','PER','Open','LastTrade_PriceOnly','Volume'])\n",
      "data"
     ],
     "language": "python",
     "metadata": {},
     "outputs": [
      {
       "html": [
        "<div style=\"max-height:1000px;max-width:1500px;overflow:auto;\">\n",
        "<table border=\"1\" class=\"dataframe\">\n",
        "  <thead>\n",
        "    <tr style=\"text-align: right;\">\n",
        "      <th></th>\n",
        "      <th>Symbol</th>\n",
        "      <th>Name</th>\n",
        "      <th>EBITDA</th>\n",
        "      <th>PER</th>\n",
        "      <th>Open</th>\n",
        "      <th>LastTrade_PriceOnly</th>\n",
        "      <th>Volume</th>\n",
        "    </tr>\n",
        "  </thead>\n",
        "  <tbody>\n",
        "    <tr>\n",
        "      <th>0</th>\n",
        "      <td> ^GSPC</td>\n",
        "      <td>     S&amp;P 500</td>\n",
        "      <td>     NaN</td>\n",
        "      <td>   NaN</td>\n",
        "      <td> 2015.29</td>\n",
        "      <td> 2023.57</td>\n",
        "      <td> 511039360</td>\n",
        "    </tr>\n",
        "    <tr>\n",
        "      <th>1</th>\n",
        "      <td>  AAPL</td>\n",
        "      <td>  Apple Inc.</td>\n",
        "      <td> 60.449B</td>\n",
        "      <td> 16.88</td>\n",
        "      <td>     NaN</td>\n",
        "      <td>  108.86</td>\n",
        "      <td>     31916</td>\n",
        "    </tr>\n",
        "    <tr>\n",
        "      <th>2</th>\n",
        "      <td>  GOOG</td>\n",
        "      <td> Google Inc.</td>\n",
        "      <td> 19.960B</td>\n",
        "      <td> 28.73</td>\n",
        "      <td>     NaN</td>\n",
        "      <td>  545.92</td>\n",
        "      <td>      1760</td>\n",
        "    </tr>\n",
        "  </tbody>\n",
        "</table>\n",
        "<p>3 rows \u00d7 7 columns</p>\n",
        "</div>"
       ],
       "metadata": {},
       "output_type": "pyout",
       "prompt_number": 8,
       "text": [
        "  Symbol         Name   EBITDA    PER     Open  LastTrade_PriceOnly     Volume\n",
        "0  ^GSPC      S&P 500      NaN    NaN  2015.29              2023.57  511039360\n",
        "1   AAPL   Apple Inc.  60.449B  16.88      NaN               108.86      31916\n",
        "2   GOOG  Google Inc.  19.960B  28.73      NaN               545.92       1760\n",
        "\n",
        "[3 rows x 7 columns]"
       ]
      }
     ],
     "prompt_number": 8
    }
   ],
   "metadata": {}
  }
 ]
}