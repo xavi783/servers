{
 "metadata": {
  "name": "",
  "signature": "sha256:55bc47548ca18efc0f9d8149c284d2df397023e17ecd3d2b3d62522576ba7c99"
 },
 "nbformat": 3,
 "nbformat_minor": 0,
 "worksheets": [
  {
   "cells": [
    {
     "cell_type": "markdown",
     "metadata": {},
     "source": [
      "#INDEX\n",
      "\n",
      "Here you can find all my works in python\n",
      "\n",
      "* [Getting Yahoo Symbols](http://xavi783.github.io/ipython-notebook/portfolio/Getting%20Yahoo%20Symbols.html)\n",
      "* [PCA - NYSE Sectors](http://xavi783.github.io/ipython-notebook/portfolio/PCA%20-%20NYSE%20Sectors.html)"
     ]
    }
   ],
   "metadata": {}
  }
 ]
}